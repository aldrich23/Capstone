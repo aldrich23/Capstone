{
 "cells": [
  {
   "cell_type": "markdown",
   "metadata": {},
   "source": [
    "**<h2>The Battle of Neighborhoods Week 1<h2>**"
   ]
  },
  {
   "cell_type": "markdown",
   "metadata": {},
   "source": [
    "**Background**"
   ]
  },
  {
   "cell_type": "markdown",
   "metadata": {},
   "source": [
    "Covid-19 has negatively affected tourism in Manila as with everywhere else, and a return to pre-Covid days is unlikely, or slow at best. In the latter scenario, future travellers are probably limited in the areas they could explore, and it would be best if they could have an efficient travel plan where they are able to enjoy the most number of experiences in the shortest period of time. One strategy would be to visit areas with a high concentration of attractions, food places, and entertainment where it is easy to navigate by foot and the venues are close to each other."
   ]
  },
  {
   "cell_type": "markdown",
   "metadata": {},
   "source": [
    "\n",
    "**Why Manila?**"
   ]
  },
  {
   "cell_type": "markdown",
   "metadata": {},
   "source": [
    "As the most visited city in the Philippines, Manila must undoubtedly have the largest concentration of attractions in Manila. Each Ward, as Manila is split into, correspondingly has its own cluster of districts filled with attractions, and food and entertainment places. The question for the future traveller is then which Ward(s) to explore so that they can have the most experiences within the shortest amount of time."
   ]
  },
  {
   "cell_type": "markdown",
   "metadata": {},
   "source": [
    "**Business Problem**"
   ]
  },
  {
   "cell_type": "markdown",
   "metadata": {},
   "source": [
    "Which Manila Ward should a traveller visit to enjoy the most number of experiences ?"
   ]
  },
  {
   "cell_type": "markdown",
   "metadata": {},
   "source": [
    "**The Dataset**"
   ]
  },
  {
   "cell_type": "markdown",
   "metadata": {},
   "source": [
    "To address this problem, it is best if we could have a dataset that examines the number of venues each Ward has in its major districts. It stands to reason that Wards with more attractions and food and entertainment places allow for more experiences and more efficient exploration. We would also be examining the latitude and longitude of the Wards and districts.\n",
    "\n",
    "To get the dataset, information about the Wards and major districts in Manila was scrapped from the Wikipedia page using BeautifulSoup. Python’s geopy package was then used to obtain the latitude and longitude of all the major districts and merged with the former data.\n",
    "\n",
    "The columns of this dataset is as such:\n",
    "\n",
    "Ward Name\n",
    "Major District\n",
    "Latitude\n",
    "Longitude"
   ]
  },
  {
   "cell_type": "code",
   "execution_count": null,
   "metadata": {},
   "outputs": [],
   "source": []
  }
 ],
 "metadata": {
  "kernelspec": {
   "display_name": "Python 3",
   "language": "python",
   "name": "python3"
  },
  "language_info": {
   "codemirror_mode": {
    "name": "ipython",
    "version": 3
   },
   "file_extension": ".py",
   "mimetype": "text/x-python",
   "name": "python",
   "nbconvert_exporter": "python",
   "pygments_lexer": "ipython3",
   "version": "3.8.5"
  }
 },
 "nbformat": 4,
 "nbformat_minor": 4
}
